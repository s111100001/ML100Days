{
 "cells": [
  {
   "cell_type": "markdown",
   "metadata": {},
   "source": [
    "## [作業重點]\n",
    "目前你應該已經要很清楚資料集中，資料的型態是什麼樣子囉！包含特徵 (features) 與標籤 (labels)。因此要記得未來不管什麼專案，必須要把資料清理成相同的格式，才能送進模型訓練。\n",
    "今天的作業開始踏入決策樹這個非常重要的模型，請務必確保你理解模型中每個超參數的意思，並試著調整看看，對最終預測結果的影響為何"
   ]
  },
  {
   "cell_type": "markdown",
   "metadata": {},
   "source": [
    "## 作業\n",
    "\n",
    "1. 試著調整 DecisionTreeClassifier(...) 中的參數，並觀察是否會改變結果？\n",
    "2. 改用其他資料集 (boston, wine)，並與回歸模型的結果進行比較"
   ]
  },
  {
   "cell_type": "code",
   "execution_count": 15,
   "metadata": {},
   "outputs": [],
   "source": [
    "from sklearn import datasets, metrics\n",
    "# 如果是分類問題，請使用 DecisionTreeClassifier，若為回歸問題，請使用 DecisionTreeRegressor\n",
    "from sklearn.tree import DecisionTreeClassifier, DecisionTreeRegressor\n",
    "from sklearn.model_selection import train_test_split\n",
    "import pandas as pd\n",
    "from sklearn.metrics import mean_squared_error, r2_score, accuracy_score"
   ]
  },
  {
   "cell_type": "code",
   "execution_count": 2,
   "metadata": {},
   "outputs": [],
   "source": [
    "# 讀取鳶尾花資料集\n",
    "iris = datasets.load_iris()\n",
    "# 切分訓練集/測試集\n",
    "x_train, x_test, y_train, y_test = train_test_split(iris.data, iris.target, test_size=0.25, random_state=4)\n",
    "# 建立模型\n",
    "clf = DecisionTreeClassifier()\n",
    "# 訓練模型\n",
    "clf.fit(x_train, y_train)\n",
    "# 預測測試集\n",
    "y_pred = clf.predict(x_test)"
   ]
  },
  {
   "cell_type": "code",
   "execution_count": 5,
   "metadata": {},
   "outputs": [
    {
     "output_type": "stream",
     "name": "stdout",
     "text": [
      "Acuuracy:  0.9736842105263158\n['sepal length (cm)', 'sepal width (cm)', 'petal length (cm)', 'petal width (cm)']\nFeature importance:  [0.01796599 0.         0.52229134 0.45974266]\n"
     ]
    }
   ],
   "source": [
    "acc = metrics.accuracy_score(y_test, y_pred)\n",
    "print(\"Acuuracy: \", acc)\n",
    "print(iris.feature_names)\n",
    "print(\"Feature importance: \", clf.feature_importances_)"
   ]
  },
  {
   "cell_type": "code",
   "execution_count": 7,
   "metadata": {},
   "outputs": [
    {
     "output_type": "stream",
     "name": "stdout",
     "text": [
      "Acuuracy:  0.9473684210526315\n"
     ]
    }
   ],
   "source": [
    "# 調整參數\n",
    "clf2 = DecisionTreeClassifier(criterion='entropy',splitter='random',max_depth=10)\n",
    "clf2.fit(x_train, y_train)\n",
    "y_pred2 = clf2.predict(x_test)\n",
    "acc = metrics.accuracy_score(y_test, y_pred2)\n",
    "print(\"Acuuracy: \", acc)"
   ]
  },
  {
   "source": [
    "# boston"
   ],
   "cell_type": "markdown",
   "metadata": {}
  },
  {
   "cell_type": "code",
   "execution_count": 19,
   "metadata": {},
   "outputs": [],
   "source": [
    "boston = datasets.load_boston() # 回歸問提"
   ]
  },
  {
   "source": [
    "# 切分訓練集/測試集\n",
    "x_train, x_test, y_train, y_test = train_test_split(boston.data, boston.target, test_size=0.2, random_state=42)\n",
    "# 建立一個線性回歸模型\n",
    "model = DecisionTreeRegressor()\n",
    "# 將訓練資料丟進去模型訓練\n",
    "model.fit(x_train, y_train)\n",
    "# 將測試資料丟進模型得到預測結果\n",
    "y_pred = model.predict(x_test)\n",
    "print('MSE: ',metrics.mean_squared_error(y_test,y_pred))"
   ],
   "cell_type": "code",
   "metadata": {},
   "execution_count": 29,
   "outputs": [
    {
     "output_type": "stream",
     "name": "stdout",
     "text": [
      "MSE:  11.965882352941179\n"
     ]
    }
   ]
  },
  {
   "cell_type": "code",
   "execution_count": 36,
   "metadata": {},
   "outputs": [
    {
     "output_type": "stream",
     "name": "stdout",
     "text": [
      "MSE:  18.624779411764706\n"
     ]
    }
   ],
   "source": [
    "# 調整參數\n",
    "model2 = DecisionTreeRegressor(criterion='mae',splitter='random', max_depth=5, min_samples_split=5)\n",
    "model2.fit(x_train, y_train)\n",
    "pred = model2.predict(x_test)\n",
    "print('MSE: ',metrics.mean_squared_error(y_test,pred))"
   ]
  },
  {
   "cell_type": "code",
   "execution_count": null,
   "metadata": {},
   "outputs": [],
   "source": []
  }
 ],
 "metadata": {
  "kernelspec": {
   "name": "python394jvsc74a57bd02e645f00016c9677948254561f90e8da4444403d53a5a351244333ac2b9f1e8a",
   "display_name": "Python 3.9.4 64-bit"
  },
  "language_info": {
   "codemirror_mode": {
    "name": "ipython",
    "version": 3
   },
   "file_extension": ".py",
   "mimetype": "text/x-python",
   "name": "python",
   "nbconvert_exporter": "python",
   "pygments_lexer": "ipython3",
   "version": "3.9.4"
  },
  "metadata": {
   "interpreter": {
    "hash": "2e645f00016c9677948254561f90e8da4444403d53a5a351244333ac2b9f1e8a"
   }
  }
 },
 "nbformat": 4,
 "nbformat_minor": 2
}